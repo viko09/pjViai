{
 "cells": [
  {
   "cell_type": "code",
   "execution_count": 1,
   "metadata": {
    "collapsed": true,
    "ExecuteTime": {
     "end_time": "2023-06-21T06:55:20.363349Z",
     "start_time": "2023-06-21T06:55:14.045002Z"
    }
   },
   "outputs": [
    {
     "name": "stdout",
     "output_type": "stream",
     "text": [
      "Extracting parameters from /Users/vikoluna/Apps/PyCharm/classifEGG1/codes/data/Ale_piloto_1/Ale_piloto_1.vhdr...\n",
      "Setting channel info structure...\n",
      "Reading 0 ... 417874  =      0.000 ...   835.748 secs...\n",
      "Ch1\n",
      "Ch2\n",
      "Ch3\n",
      "Ch4\n",
      "Ch5\n",
      "Ch6\n",
      "Ch7\n",
      "Ch8\n",
      "Ch9\n",
      "Ch10\n",
      "Ch11\n",
      "Ch12\n",
      "Ch13\n",
      "Ch14\n",
      "Ch15\n",
      "Ch16\n",
      "Ch17\n",
      "Ch18\n",
      "Ch19\n",
      "Ch20\n",
      "Ch21\n",
      "Ch22\n",
      "Ch23\n",
      "Ch25\n",
      "Ch26\n",
      "Ch27\n",
      "Ch28\n",
      "Ch29\n",
      "Ch30\n",
      "Ch31\n",
      "Ch32\n",
      "Ch33\n",
      "Ch34\n",
      "Ch35\n",
      "Ch36\n",
      "Ch37\n",
      "Ch38\n",
      "Ch39\n",
      "Ch40\n",
      "Ch41\n",
      "Ch42\n",
      "Ch43\n",
      "Ch44\n",
      "Ch45\n",
      "Ch46\n",
      "Ch47\n",
      "Ch48\n",
      "Ch49\n",
      "Ch50\n",
      "Ch51\n",
      "Ch52\n",
      "Ch53\n",
      "Ch54\n",
      "Ch55\n",
      "Ch56\n",
      "Ch57\n",
      "Ch58\n",
      "Ch59\n",
      "Ch60\n",
      "Ch61\n",
      "Ch62\n",
      "Ch63\n",
      "Ch64\n",
      "Aux1\n",
      "Aux2\n",
      "Aux3\n",
      "Aux4\n",
      "Aux5\n",
      "Aux6\n",
      "Aux7\n",
      "Aux8\n"
     ]
    },
    {
     "data": {
      "text/plain": "\"\\n# Obtener el canal\\n canal_1 = 'Ch01'  # Reemplaza 'nombre_del_canal' con el nombre del canal que deseas extraer\\ndatos_canal = raw[canal_interes][0]\\n\""
     },
     "execution_count": 1,
     "metadata": {},
     "output_type": "execute_result"
    }
   ],
   "source": [
    "# Import mne data\n",
    "import mne\n",
    "import os\n",
    "import pandas as pd\n",
    "\n",
    "data_path = '/Users/vikoluna/Apps/PyCharm/classifEGG1/codes/data/Ale_piloto_1/'\n",
    "vhdr_file = os.path.join(data_path, 'Ale_piloto_1.vhdr')\n",
    "\n",
    "# MNE Workspace\n",
    "# Import the BrainVision data into an MNE Raw object\n",
    "raw = mne.io.read_raw_brainvision(vhdr_file, preload=True)\n",
    "\n",
    "# Obtener los nombres de los canales\n",
    "nombres_canales = raw.info['ch_names']\n",
    "\n",
    "# Imprimir los nombres de los canales\n",
    "for canal in nombres_canales:\n",
    "    print(canal)\n"
   ]
  },
  {
   "cell_type": "code",
   "execution_count": 2,
   "outputs": [],
   "source": [
    "# Obtener el canal\n",
    "chSon = 'Ch1'  # Reemplaza 'nombre_del_canal' con el nombre del canal que deseas extraer\n",
    "datos_canal = raw[chSon][0]\n",
    "\n",
    "# Crear un DataFrame\n",
    "df = pd.DataFrame(datos_canal.T, columns=['Canal'])  # Transponer los datos y agregar una columna 'Canal'\n",
    "\n",
    "# Guardar el DataFrame en un archivo CSV\n",
    "df.to_csv('archivo.csv', index=False)"
   ],
   "metadata": {
    "collapsed": false,
    "ExecuteTime": {
     "end_time": "2023-06-21T06:58:19.893005Z",
     "start_time": "2023-06-21T06:58:18.967124Z"
    }
   }
  },
  {
   "cell_type": "code",
   "execution_count": 3,
   "outputs": [
    {
     "name": "stdout",
     "output_type": "stream",
     "text": [
      "      Canal\n",
      "0 -0.013373\n",
      "1 -0.013373\n",
      "2 -0.013380\n",
      "3 -0.013382\n",
      "4 -0.013378\n"
     ]
    }
   ],
   "source": [
    "# Leer el archivo CSV\n",
    "df = pd.read_csv('archivo.csv')\n",
    "\n",
    "# Imprimir el DataFrame\n",
    "print(df.head())"
   ],
   "metadata": {
    "collapsed": false,
    "ExecuteTime": {
     "end_time": "2023-06-21T06:59:14.026711Z",
     "start_time": "2023-06-21T06:59:13.909454Z"
    }
   }
  },
  {
   "cell_type": "code",
   "execution_count": 8,
   "outputs": [
    {
     "data": {
      "text/plain": "      Canal\n0 -0.013373\n1 -0.013373\n2 -0.013380",
      "text/html": "<div>\n<style scoped>\n    .dataframe tbody tr th:only-of-type {\n        vertical-align: middle;\n    }\n\n    .dataframe tbody tr th {\n        vertical-align: top;\n    }\n\n    .dataframe thead th {\n        text-align: right;\n    }\n</style>\n<table border=\"1\" class=\"dataframe\">\n  <thead>\n    <tr style=\"text-align: right;\">\n      <th></th>\n      <th>Canal</th>\n    </tr>\n  </thead>\n  <tbody>\n    <tr>\n      <th>0</th>\n      <td>-0.013373</td>\n    </tr>\n    <tr>\n      <th>1</th>\n      <td>-0.013373</td>\n    </tr>\n    <tr>\n      <th>2</th>\n      <td>-0.013380</td>\n    </tr>\n  </tbody>\n</table>\n</div>"
     },
     "execution_count": 8,
     "metadata": {},
     "output_type": "execute_result"
    }
   ],
   "source": [
    "import matplotlib.pyplot as plt\n",
    "\n",
    "# Leer el archivo CSV\n",
    "df = pd.read_csv('archivo.csv')\n",
    "\n",
    "# Cambiar el nombre de un encabezado\n",
    "df = df.rename(columns={'': 'X'})\n",
    "\n",
    "# Imprimir el DataFrame con el encabezado modificado\n",
    "print(df)\n"
   ],
   "metadata": {
    "collapsed": false,
    "ExecuteTime": {
     "end_time": "2023-06-21T07:05:45.639945Z",
     "start_time": "2023-06-21T07:05:45.625359Z"
    }
   }
  },
  {
   "cell_type": "code",
   "execution_count": 8,
   "outputs": [
    {
     "data": {
      "text/plain": "      Canal\n0 -0.013373\n1 -0.013373\n2 -0.013380",
      "text/html": "<div>\n<style scoped>\n    .dataframe tbody tr th:only-of-type {\n        vertical-align: middle;\n    }\n\n    .dataframe tbody tr th {\n        vertical-align: top;\n    }\n\n    .dataframe thead th {\n        text-align: right;\n    }\n</style>\n<table border=\"1\" class=\"dataframe\">\n  <thead>\n    <tr style=\"text-align: right;\">\n      <th></th>\n      <th>Canal</th>\n    </tr>\n  </thead>\n  <tbody>\n    <tr>\n      <th>0</th>\n      <td>-0.013373</td>\n    </tr>\n    <tr>\n      <th>1</th>\n      <td>-0.013373</td>\n    </tr>\n    <tr>\n      <th>2</th>\n      <td>-0.013380</td>\n    </tr>\n  </tbody>\n</table>\n</div>"
     },
     "execution_count": 8,
     "metadata": {},
     "output_type": "execute_result"
    }
   ],
   "source": [
    "import matplotlib.pyplot as plt\n",
    "\n",
    "# Leer el archivo CSV\n",
    "df = pd.read_csv('archivo.csv')\n",
    "\n",
    "# Cambiar el nombre de un encabezado\n",
    "df = df.rename(columns={'': 'X'})\n",
    "\n",
    "# Imprimir el DataFrame con el encabezado modificado\n",
    "print(df)\n"
   ],
   "metadata": {
    "collapsed": false
   }
  },
  {
   "cell_type": "code",
   "execution_count": 9,
   "outputs": [
    {
     "name": "stdout",
     "output_type": "stream",
     "text": [
      "Canal\n"
     ]
    }
   ],
   "source": [
    "# Leer el archivo CSV\n",
    "df = pd.read_csv('archivo.csv')\n",
    "\n",
    "# Obtener los nombres de los encabezados\n",
    "nombres_encabezados = df.columns.tolist()\n",
    "\n",
    "# Imprimir los nombres de los encabezados\n",
    "for encabezado in nombres_encabezados:\n",
    "    print(encabezado)"
   ],
   "metadata": {
    "collapsed": false,
    "ExecuteTime": {
     "end_time": "2023-06-21T07:09:44.138283Z",
     "start_time": "2023-06-21T07:09:44.023946Z"
    }
   }
  },
  {
   "cell_type": "code",
   "execution_count": null,
   "outputs": [],
   "source": [],
   "metadata": {
    "collapsed": false
   }
  }
 ],
 "metadata": {
  "kernelspec": {
   "display_name": "Python 3",
   "language": "python",
   "name": "python3"
  },
  "language_info": {
   "codemirror_mode": {
    "name": "ipython",
    "version": 2
   },
   "file_extension": ".py",
   "mimetype": "text/x-python",
   "name": "python",
   "nbconvert_exporter": "python",
   "pygments_lexer": "ipython2",
   "version": "2.7.6"
  }
 },
 "nbformat": 4,
 "nbformat_minor": 0
}
