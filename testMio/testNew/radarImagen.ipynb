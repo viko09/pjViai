{
 "cells": [
  {
   "cell_type": "code",
   "execution_count": 2,
   "outputs": [],
   "source": [
    "import numpy as np\n",
    "import matplotlib.pyplot as plt\n",
    "import os\n",
    "import matplotlib.animation as animation"
   ],
   "metadata": {
    "collapsed": false,
    "ExecuteTime": {
     "end_time": "2023-06-22T15:51:33.594219Z",
     "start_time": "2023-06-22T15:51:31.391158Z"
    }
   }
  },
  {
   "cell_type": "code",
   "execution_count": 3,
   "outputs": [],
   "source": [
    "# Load the input image\n",
    "img = plt.imread('/Users/vikoluna/Apps/PyCharm/pythonProject/pjViai/g@tu/redcross.png')"
   ],
   "metadata": {
    "collapsed": false,
    "ExecuteTime": {
     "end_time": "2023-06-22T15:51:34.557371Z",
     "start_time": "2023-06-22T15:51:34.513650Z"
    }
   }
  },
  {
   "cell_type": "code",
   "execution_count": 4,
   "outputs": [
    {
     "name": "stdout",
     "output_type": "stream",
     "text": [
      "460 461\n"
     ]
    }
   ],
   "source": [
    "# Get the dimensions of the image\n",
    "h, w, _ = img.shape\n",
    "\n",
    "# Calculate center of image\n",
    "center_x = w // 2\n",
    "center_y = h // 2\n",
    "\n",
    "print(center_x, center_y)"
   ],
   "metadata": {
    "collapsed": false,
    "ExecuteTime": {
     "end_time": "2023-06-22T15:51:37.789789Z",
     "start_time": "2023-06-22T15:51:37.780541Z"
    }
   }
  },
  {
   "cell_type": "code",
   "execution_count": 5,
   "outputs": [],
   "source": [
    "# Initialize the radar values array with 3600 samples per angle\n",
    "radar_values = np.zeros((h // 2, 3600))"
   ],
   "metadata": {
    "collapsed": false,
    "ExecuteTime": {
     "end_time": "2023-06-22T15:51:38.575523Z",
     "start_time": "2023-06-22T15:51:38.563800Z"
    }
   }
  },
  {
   "cell_type": "code",
   "execution_count": 6,
   "outputs": [],
   "source": [
    "# Iterate over angles and radio\n",
    "for angle in np.arange(0, 3600, 1.0):\n",
    "    for r in range(h // 2):\n",
    "        x = int(np.round(center_x + r * np.sin(np.deg2rad(angle))))\n",
    "        y = int(np.round(center_y + r * np.cos(np.deg2rad(angle))))\n",
    "        if x < 0 or x >= w or y < 0 or y >= h:\n",
    "            radar_values[r, int(angle * 1)] = 0\n",
    "        else:\n",
    "            radar_values[r, int(angle * 1)] = img[y, x, 0]"
   ],
   "metadata": {
    "collapsed": false,
    "ExecuteTime": {
     "end_time": "2023-06-22T15:52:03.577698Z",
     "start_time": "2023-06-22T15:51:40.160591Z"
    }
   }
  },
  {
   "cell_type": "code",
   "execution_count": 7,
   "outputs": [],
   "source": [
    "# Calculate average values at each angle\n",
    "avg_values = np.mean(radar_values, axis=0)"
   ],
   "metadata": {
    "collapsed": false,
    "ExecuteTime": {
     "end_time": "2023-06-22T15:52:04.986983Z",
     "start_time": "2023-06-22T15:52:04.975760Z"
    }
   }
  },
  {
   "cell_type": "code",
   "execution_count": 8,
   "outputs": [],
   "source": [
    "# Save radar sweep to text file\n",
    "data = np.column_stack((np.arange(0, 3600, 1.0), avg_values))\n",
    "# save the data as a CSV file\n",
    "np.savetxt('cross.csv', data, delimiter=',', header='C1,C2', comments='', fmt='%.3f')\n",
    "\n",
    "# os.system('python3 mkMidi.py')"
   ],
   "metadata": {
    "collapsed": false,
    "ExecuteTime": {
     "end_time": "2023-06-22T15:52:06.044199Z",
     "start_time": "2023-06-22T15:52:06.020857Z"
    }
   }
  },
  {
   "cell_type": "code",
   "execution_count": 9,
   "outputs": [
    {
     "name": "stdout",
     "output_type": "stream",
     "text": [
      "Image dimensions: 920x922\n"
     ]
    },
    {
     "data": {
      "text/plain": "<Figure size 640x480 with 1 Axes>",
      "image/png": "[encoded data removed]"
     },
     "metadata": {},
     "output_type": "display_data"
    }
   ],
   "source": [
    "fig, ax = plt.subplots(subplot_kw={'projection': 'polar'})\n",
    "ax.plot(np.deg2rad(np.arange(0, 3600, 1.0)), avg_values)\n",
    "# ax.plot(np.deg2rad(np.arange(360, 0, -1.0)), radar_values.T)\n",
    "\n",
    "# set limits of x and y-axis\n",
    "ax.set_xlim([0, img.shape[1]])\n",
    "ax.set_ylim([0, img.shape[0]])\n",
    "\n",
    "# remove ticks and numbers\n",
    "ax.set_xticks([])\n",
    "ax.set_yticks([])\n",
    "\n",
    "# display image dimensions\n",
    "print(f\"Image dimensions: {img.shape[1]}x{img.shape[0]}\")\n",
    "\n",
    "# calculate center of image\n",
    "center_x = img.shape[1] / 2\n",
    "center_y = img.shape[0] / 2\n",
    "max_distance = np.sqrt((img.shape[0] / 2) ** 2 + (img.shape[1] / 2) ** 2)\n",
    "\n",
    "# create line for radar sweeping\n",
    "line, = ax.plot([center_x, center_x], [center_y, center_y - 50], color='orangered',\n",
    "                linewidth=2, solid_capstyle='round')\n",
    "\n",
    "# define parameters for pulsation\n",
    "freq = 10\n",
    "amp = 5"
   ],
   "metadata": {
    "collapsed": false,
    "ExecuteTime": {
     "end_time": "2023-06-22T15:52:07.059013Z",
     "start_time": "2023-06-22T15:52:06.922653Z"
    }
   }
  },
  {
   "cell_type": "code",
   "execution_count": 10,
   "outputs": [],
   "source": [
    "# define function to update line position in animation\n",
    "def update_line(num):\n",
    "    angle = np.deg2rad(num)\n",
    "    r = max_distance + amp * np.sin(2.0 * np.pi * freq * num / num_frames)\n",
    "    x = center_x + r * np.cos(angle)\n",
    "    y = center_y - r * np.sin(angle)\n",
    "    line.set_data([center_x, x], [center_y, y])\n",
    "    alpha = 1  # (1-r/100)**3 # calculate alpha value based on distance from center\n",
    "    line.set_linewidth(2)  # (2 + 4*(1-r/1000)) # set line thickness based on distance from center\n",
    "    line.set_alpha(alpha)  # set alpha value to create beam-like effect\n",
    "    line.set_solid_capstyle('round')\n",
    "    return line\n",
    "\n",
    "# create animation object\n",
    "num_frames = 1440  # 72 seconds at 50ms per frame\n",
    "frames = np.linspace(0, 360, num_frames, endpoint=False)\n",
    "ani = animation.FuncAnimation(fig, update_line, frames=frames,\n",
    "                              interval=50)\n"
   ],
   "metadata": {
    "collapsed": false,
    "ExecuteTime": {
     "end_time": "2023-06-22T15:52:38.395565Z",
     "start_time": "2023-06-22T15:52:38.368029Z"
    }
   }
  },
  {
   "cell_type": "code",
   "execution_count": 11,
   "outputs": [],
   "source": [
    "# create video writer\n",
    "Writer = animation.writers['ffmpeg']\n",
    "writer = Writer(fps=30, metadata=dict(artist='Me'), bitrate=1800)\n",
    "\n",
    "# save animation as video\n",
    "ani.save('mago.mp4', writer=writer)"
   ],
   "metadata": {
    "collapsed": false,
    "ExecuteTime": {
     "end_time": "2023-06-22T15:52:59.044499Z",
     "start_time": "2023-06-22T15:52:42.734032Z"
    }
   }
  },
  {
   "cell_type": "code",
   "execution_count": 13,
   "outputs": [
    {
     "name": "stderr",
     "output_type": "stream",
     "text": [
      "ffmpeg version 4.2.2 Copyright (c) 2000-2019 the FFmpeg developers\n",
      "  built with clang version 4.0.1 (tags/RELEASE_401/final)\n",
      "  configuration: --prefix=/opt/concourse/worker/volumes/live/d5b9ea1c-8223-4ff6-7416-83e6b4cd6874/volume/ffmpeg_1587154914508/_h_env_placehold_placehold_placehold_placehold_placehold_placehold_placehold_placehold_placehold_placehold_placehold_placehold_placehold_placehold_placehol --cc=x86_64-apple-darwin13.4.0-clang --disable-doc --enable-avresample --enable-gmp --enable-hardcoded-tables --enable-libfreetype --enable-libvpx --enable-pthreads --enable-libopus --enable-postproc --enable-pic --enable-pthreads --enable-shared --enable-static --enable-version3 --enable-zlib --enable-libmp3lame --disable-nonfree --enable-gpl --enable-gnutls --disable-openssl --enable-libopenh264 --enable-libx264\n",
      "  libavutil      56. 31.100 / 56. 31.100\n",
      "  libavcodec     58. 54.100 / 58. 54.100\n",
      "  libavformat    58. 29.100 / 58. 29.100\n",
      "  libavdevice    58.  8.100 / 58.  8.100\n",
      "  libavfilter     7. 57.100 /  7. 57.100\n",
      "  libavresample   4.  0.  0 /  4.  0.  0\n",
      "  libswscale      5.  5.100 /  5.  5.100\n",
      "  libswresample   3.  5.100 /  3.  5.100\n",
      "  libpostproc    55.  5.100 / 55.  5.100\n",
      "Input #0, mp3, from 'wizardio.mp3':\n",
      "  Metadata:\n",
      "    encoder         : Lavf58.29.100\n",
      "  Duration: 00:37:05.45, start: 0.025057, bitrate: 64 kb/s\n",
      "    Stream #0:0: Audio: mp3, 44100 Hz, stereo, fltp, 64 kb/s\n",
      "    Metadata:\n",
      "      encoder         : Lavc58.54\n",
      "File 'wizardio.wav' already exists. Overwrite ? [y/N] Not overwriting - exiting\n",
      "ffmpeg version 4.2.2 Copyright (c) 2000-2019 the FFmpeg developers\n",
      "  built with clang version 4.0.1 (tags/RELEASE_401/final)\n",
      "  configuration: --prefix=/opt/concourse/worker/volumes/live/d5b9ea1c-8223-4ff6-7416-83e6b4cd6874/volume/ffmpeg_1587154914508/_h_env_placehold_placehold_placehold_placehold_placehold_placehold_placehold_placehold_placehold_placehold_placehold_placehold_placehold_placehold_placehol --cc=x86_64-apple-darwin13.4.0-clang --disable-doc --enable-avresample --enable-gmp --enable-hardcoded-tables --enable-libfreetype --enable-libvpx --enable-pthreads --enable-libopus --enable-postproc --enable-pic --enable-pthreads --enable-shared --enable-static --enable-version3 --enable-zlib --enable-libmp3lame --disable-nonfree --enable-gpl --enable-gnutls --disable-openssl --enable-libopenh264 --enable-libx264\n",
      "  libavutil      56. 31.100 / 56. 31.100\n",
      "  libavcodec     58. 54.100 / 58. 54.100\n",
      "  libavformat    58. 29.100 / 58. 29.100\n",
      "  libavdevice    58.  8.100 / 58.  8.100\n",
      "  libavfilter     7. 57.100 /  7. 57.100\n",
      "  libavresample   4.  0.  0 /  4.  0.  0\n",
      "  libswscale      5.  5.100 /  5.  5.100\n",
      "  libswresample   3.  5.100 /  3.  5.100\n",
      "  libpostproc    55.  5.100 / 55.  5.100\n",
      "Input #0, mp3, from 'wizardio.mp3':\n",
      "  Metadata:\n",
      "    encoder         : Lavf58.29.100\n",
      "  Duration: 00:37:05.45, start: 0.025057, bitrate: 64 kb/s\n",
      "    Stream #0:0: Audio: mp3, 44100 Hz, stereo, fltp, 64 kb/s\n",
      "    Metadata:\n",
      "      encoder         : Lavc58.54\n",
      "Input #1, mov,mp4,m4a,3gp,3g2,mj2, from 'mago.mp4':\n",
      "  Metadata:\n",
      "    major_brand     : isom\n",
      "    minor_version   : 512\n",
      "    compatible_brands: isomiso2avc1mp41\n",
      "    artist          : Me\n",
      "    encoder         : Lavf58.29.100\n",
      "  Duration: 00:00:48.00, start: 0.000000, bitrate: 259 kb/s\n",
      "    Stream #1:0(und): Video: h264 (High) (avc1 / 0x31637661), yuv420p, 640x480, 256 kb/s, 30 fps, 30 tbr, 15360 tbn, 60 tbc (default)\n",
      "    Metadata:\n",
      "      handler_name    : VideoHandler\n",
      "Output #0, mp4, to 'nuevoColor.mp4':\n",
      "  Metadata:\n",
      "    encoder         : Lavf58.29.100\n",
      "    Stream #0:0: Audio: mp3 (mp4a / 0x6134706D), 44100 Hz, stereo, fltp, 64 kb/s\n",
      "    Metadata:\n",
      "      encoder         : Lavc58.54\n",
      "    Stream #0:1(und): Video: h264 (High) (avc1 / 0x31637661), yuv420p, 640x480, q=2-31, 256 kb/s, 30 fps, 30 tbr, 15360 tbn, 15360 tbc (default)\n",
      "    Metadata:\n",
      "      handler_name    : VideoHandler\n",
      "Stream mapping:\n",
      "  Stream #0:0 -> #0:0 (copy)\n",
      "  Stream #1:0 -> #0:1 (copy)\n",
      "Press [q] to stop, [?] for help\n",
      "frame= 1440 fps=0.0 q=-1.0 Lsize=    1921kB time=00:00:47.90 bitrate= 328.5kbits/s speed=1.68e+03x    \n",
      "video:1502kB audio:375kB subtitle:0kB other streams:0kB global headers:0kB muxing overhead: 2.370544%\n"
     ]
    },
    {
     "data": {
      "text/plain": "0"
     },
     "execution_count": 13,
     "metadata": {},
     "output_type": "execute_result"
    }
   ],
   "source": [
    "# add audio to the mp4 file\n",
    "os.system('ffmpeg -i wizardio.mp3 wizardio.wav')\n",
    "os.system('ffmpeg -i wizardio.mp3 -i mago.mp4 -map 0:a -map 1:v -c copy -shortest nuevoColor.mp4')"
   ],
   "metadata": {
    "collapsed": false,
    "ExecuteTime": {
     "end_time": "2023-06-22T15:53:19.863072Z",
     "start_time": "2023-06-22T15:53:19.740323Z"
    }
   }
  },
  {
   "cell_type": "code",
   "execution_count": null,
   "outputs": [],
   "source": [],
   "metadata": {
    "collapsed": false
   }
  }
 ],
 "metadata": {
  "kernelspec": {
   "display_name": "Python 3",
   "language": "python",
   "name": "python3"
  },
  "language_info": {
   "codemirror_mode": {
    "name": "ipython",
    "version": 2
   },
   "file_extension": ".py",
   "mimetype": "text/x-python",
   "name": "python",
   "nbconvert_exporter": "python",
   "pygments_lexer": "ipython2",
   "version": "2.7.6"
  }
 },
 "nbformat": 4,
 "nbformat_minor": 0
}
