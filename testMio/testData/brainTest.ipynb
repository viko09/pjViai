{
 "cells": [
  {
   "cell_type": "code",
   "execution_count": 1,
   "outputs": [],
   "source": [
    "# Import mne data\n",
    "import mne\n",
    "import os\n",
    "import pandas as pd\n",
    "import matplotlib.pyplot as plt\n",
    "\n",
    "data_path = '/Users/vikoluna/Apps/PyCharm/classifEGG1/codes/data/Ale_piloto_1/'\n",
    "vhdr_file = os.path.join(data_path, 'Ale_piloto_1.vhdr')"
   ],
   "metadata": {
    "collapsed": false,
    "ExecuteTime": {
     "end_time": "2023-06-21T21:32:12.854504Z",
     "start_time": "2023-06-21T21:32:08.405428Z"
    }
   }
  },
  {
   "cell_type": "code",
   "execution_count": null,
   "outputs": [],
   "source": [
    "# MNE Workspace\n",
    "# Import the BrainVision data into an MNE Raw object\n",
    "raw = mne.io.read_raw_brainvision(vhdr_file, preload=True)\n"
   ],
   "metadata": {
    "collapsed": false
   }
  },
  {
   "cell_type": "code",
   "execution_count": null,
   "outputs": [],
   "source": [
    "# Obtener el canal\n",
    "chN1 = 'Ch1'  # Reemplaza 'nombre_del_canal' con el nombre del canal que deseas extraer\n",
    "datos_canal = raw[chN1][0]\n",
    "\n",
    "chN2 = 'Ch2'\n",
    "datos_canal2 = raw[chN2][1]\n"
   ],
   "metadata": {
    "collapsed": false
   }
  },
  {
   "cell_type": "code",
   "execution_count": null,
   "outputs": [],
   "source": [
    "# Crear un DataFrame\n",
    "df = pd.DataFrame(datos_canal.T, columns=['Canal'])\n",
    "# Transponer los datos y agregar una columna 'Canal'\n"
   ],
   "metadata": {
    "collapsed": false
   }
  },
  {
   "cell_type": "code",
   "execution_count": null,
   "outputs": [],
   "source": [
    "# Guardar el DataFrame en un archivo CSV\n",
    "df.to_csv('brainChannel1.csv', index=False)\n",
    "\n",
    "# Leer el archivo CSV\n",
    "df = pd.read_csv('brainChannel1.csv')\n"
   ],
   "metadata": {
    "collapsed": false
   }
  },
  {
   "cell_type": "code",
   "execution_count": null,
   "outputs": [],
   "source": [
    "# Imprimir el DataFrame\n",
    "print(df.head())\n"
   ],
   "metadata": {
    "collapsed": false
   }
  }
 ],
 "metadata": {
  "kernelspec": {
   "display_name": "Python 3",
   "language": "python",
   "name": "python3"
  },
  "language_info": {
   "codemirror_mode": {
    "name": "ipython",
    "version": 2
   },
   "file_extension": ".py",
   "mimetype": "text/x-python",
   "name": "python",
   "nbconvert_exporter": "python",
   "pygments_lexer": "ipython2",
   "version": "2.7.6"
  }
 },
 "nbformat": 4,
 "nbformat_minor": 0
}
